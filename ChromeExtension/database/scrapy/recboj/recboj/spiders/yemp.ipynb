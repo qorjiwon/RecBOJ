{
 "cells": [
  {
   "cell_type": "code",
   "execution_count": 2,
   "metadata": {},
   "outputs": [
    {
     "ename": "NameError",
     "evalue": "name 'temp' is not defined",
     "output_type": "error",
     "traceback": [
      "\u001b[0;31m---------------------------------------------------------------------------\u001b[0m",
      "\u001b[0;31mNameError\u001b[0m                                 Traceback (most recent call last)",
      "Cell \u001b[0;32mIn[2], line 3\u001b[0m\n\u001b[1;32m      1\u001b[0m \u001b[39mimport\u001b[39;00m \u001b[39mscrapy\u001b[39;00m\n\u001b[1;32m      2\u001b[0m \u001b[39mfrom\u001b[39;00m \u001b[39mscrapy\u001b[39;00m \u001b[39mimport\u001b[39;00m Spider\n\u001b[0;32m----> 3\u001b[0m response \u001b[39m=\u001b[39m scrapy\u001b[39m.\u001b[39mRequest(url \u001b[39m=\u001b[39m \u001b[39m\"\u001b[39m\u001b[39mhttps://www.acmicpc.net/user/eu2525\u001b[39m\u001b[39m\"\u001b[39m, callback \u001b[39m=\u001b[39m temp)\n\u001b[1;32m      5\u001b[0m \u001b[39mdef\u001b[39;00m \u001b[39mtemp\u001b[39m(resonse) :\n\u001b[1;32m      6\u001b[0m     res \u001b[39m=\u001b[39m response\u001b[39m.\u001b[39mxpath(\u001b[39m'\u001b[39m\u001b[39m//*[@class=\u001b[39m\u001b[39m\"\u001b[39m\u001b[39mproblem-list\u001b[39m\u001b[39m\"\u001b[39m\u001b[39m]\u001b[39m\u001b[39m'\u001b[39m)\u001b[39m.\u001b[39mgetall()\n",
      "\u001b[0;31mNameError\u001b[0m: name 'temp' is not defined"
     ]
    }
   ],
   "source": [
    "import scrapy\n",
    "from scrapy import Spider\n",
    "response = scrapy.Request(url = \"https://www.acmicpc.net/user/eu2525\", callback = temp)\n",
    "\n",
    "def temp(resonse) :\n",
    "    res = response.xpath('//*[@class=\"problem-list\"]').getall()"
   ]
  }
 ],
 "metadata": {
  "kernelspec": {
   "display_name": "base",
   "language": "python",
   "name": "python3"
  },
  "language_info": {
   "codemirror_mode": {
    "name": "ipython",
    "version": 3
   },
   "file_extension": ".py",
   "mimetype": "text/x-python",
   "name": "python",
   "nbconvert_exporter": "python",
   "pygments_lexer": "ipython3",
   "version": "3.11.5"
  },
  "orig_nbformat": 4
 },
 "nbformat": 4,
 "nbformat_minor": 2
}

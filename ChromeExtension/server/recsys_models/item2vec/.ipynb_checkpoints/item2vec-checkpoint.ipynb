{
 "cells": [
  {
   "cell_type": "code",
   "execution_count": 1,
   "metadata": {
    "id": "t1kEf5vy353G"
   },
   "outputs": [],
   "source": [
    "import os\n",
    "import json\n",
    "import pickle\n",
    "import numpy as np\n",
    "import pandas as pd\n",
    "\n",
    "# DATA_PATH = '/opt/ml/final-project-level3-recsys-05/Model/Model-Experiment/data'\n",
    "# VAL_TO_IDX_DATA_PATH = '/opt/ml/final-project-level3-recsys-05/Model/Model-Server/data'\n",
    "\n",
    "# MODEL_PATH = '/opt/ml/final-project-level3-recsys-05/Model/Model-Experiment/model'"
   ]
  },
  {
   "cell_type": "code",
   "execution_count": 8,
   "metadata": {},
   "outputs": [
    {
     "name": "stdout",
     "output_type": "stream",
     "text": [
      "Requirement already satisfied: pandas in /Users/im_jungwoo/anaconda3/lib/python3.11/site-packages (1.5.3)\n",
      "Collecting pandas\n",
      "  Obtaining dependency information for pandas from https://files.pythonhosted.org/packages/4e/dd/4a77fb4cb7d207fbeb77dfc7c022131d295767504eabb5836fcd63b644a1/pandas-2.1.2-cp311-cp311-macosx_11_0_arm64.whl.metadata\n",
      "  Downloading pandas-2.1.2-cp311-cp311-macosx_11_0_arm64.whl.metadata (18 kB)\n",
      "Requirement already satisfied: numpy<2,>=1.23.2 in /Users/im_jungwoo/anaconda3/lib/python3.11/site-packages (from pandas) (1.24.3)\n",
      "Requirement already satisfied: python-dateutil>=2.8.2 in /Users/im_jungwoo/anaconda3/lib/python3.11/site-packages (from pandas) (2.8.2)\n",
      "Requirement already satisfied: pytz>=2020.1 in /Users/im_jungwoo/anaconda3/lib/python3.11/site-packages (from pandas) (2022.7)\n",
      "Collecting tzdata>=2022.1 (from pandas)\n",
      "  Using cached tzdata-2023.3-py2.py3-none-any.whl (341 kB)\n",
      "Requirement already satisfied: six>=1.5 in /Users/im_jungwoo/anaconda3/lib/python3.11/site-packages (from python-dateutil>=2.8.2->pandas) (1.16.0)\n",
      "Downloading pandas-2.1.2-cp311-cp311-macosx_11_0_arm64.whl (10.8 MB)\n",
      "\u001b[2K   \u001b[90m━━━━━━━━━━━━━━━━━━━━━━━━━━━━━━━━━━━━━━━━\u001b[0m \u001b[32m10.8/10.8 MB\u001b[0m \u001b[31m10.3 MB/s\u001b[0m eta \u001b[36m0:00:00\u001b[0m00:01\u001b[0m00:01\u001b[0m\n",
      "\u001b[?25hInstalling collected packages: tzdata, pandas\n",
      "  Attempting uninstall: pandas\n",
      "    Found existing installation: pandas 1.5.3\n",
      "    Uninstalling pandas-1.5.3:\n",
      "      Successfully uninstalled pandas-1.5.3\n",
      "Successfully installed pandas-2.1.2 tzdata-2023.3\n"
     ]
    }
   ],
   "source": [
    "!pip install --upgrade pandas"
   ]
  },
  {
   "cell_type": "code",
   "execution_count": 20,
   "metadata": {
    "id": "FqO1cRrG353I"
   },
   "outputs": [],
   "source": [
    "problem_df = pd.read_csv('/Users/im_jungwoo/Desktop/project/Google Extension/server/models/solvedacAPI/result/data.csv')\n",
    "\n",
    "problem_df.columns.values[1] = 'problem_id'\n",
    "problem_df.columns.values[14] = 'problem_tags'\n",
    "\n",
    "problem_df['problem_id'] = problem_df['problem_id'].astype(str)"
   ]
  },
  {
   "cell_type": "code",
   "execution_count": 21,
   "metadata": {
    "colab": {
     "base_uri": "https://localhost:8080/",
     "height": 354
    },
    "id": "C51g1-3g5kYq",
    "outputId": "3d87fece-fe0d-40e9-9c2a-c6fb0ed2399d"
   },
   "outputs": [
    {
     "data": {
      "text/html": [
       "<div>\n",
       "<style scoped>\n",
       "    .dataframe tbody tr th:only-of-type {\n",
       "        vertical-align: middle;\n",
       "    }\n",
       "\n",
       "    .dataframe tbody tr th {\n",
       "        vertical-align: top;\n",
       "    }\n",
       "\n",
       "    .dataframe thead th {\n",
       "        text-align: right;\n",
       "    }\n",
       "</style>\n",
       "<table border=\"1\" class=\"dataframe\">\n",
       "  <thead>\n",
       "    <tr style=\"text-align: right;\">\n",
       "      <th></th>\n",
       "      <th>Unnamed: 0</th>\n",
       "      <th>problem_id</th>\n",
       "      <th>titleKo</th>\n",
       "      <th>titles</th>\n",
       "      <th>isSolvable</th>\n",
       "      <th>isPartial</th>\n",
       "      <th>acceptedUserCount</th>\n",
       "      <th>level</th>\n",
       "      <th>votedUserCount</th>\n",
       "      <th>sprout</th>\n",
       "      <th>givesNoRating</th>\n",
       "      <th>isLevelLocked</th>\n",
       "      <th>averageTries</th>\n",
       "      <th>official</th>\n",
       "      <th>problem_tags</th>\n",
       "      <th>metadata</th>\n",
       "    </tr>\n",
       "  </thead>\n",
       "  <tbody>\n",
       "    <tr>\n",
       "      <th>0</th>\n",
       "      <td>0</td>\n",
       "      <td>1000</td>\n",
       "      <td>A+B</td>\n",
       "      <td>[{'language': 'en', 'languageDisplayName': 'en...</td>\n",
       "      <td>True</td>\n",
       "      <td>False</td>\n",
       "      <td>265818</td>\n",
       "      <td>1</td>\n",
       "      <td>140</td>\n",
       "      <td>True</td>\n",
       "      <td>False</td>\n",
       "      <td>True</td>\n",
       "      <td>2.5177</td>\n",
       "      <td>True</td>\n",
       "      <td>implementation,arithmetic,math,</td>\n",
       "      <td>{}</td>\n",
       "    </tr>\n",
       "    <tr>\n",
       "      <th>1</th>\n",
       "      <td>1</td>\n",
       "      <td>1001</td>\n",
       "      <td>A-B</td>\n",
       "      <td>[{'language': 'ko', 'languageDisplayName': 'ko...</td>\n",
       "      <td>True</td>\n",
       "      <td>False</td>\n",
       "      <td>226989</td>\n",
       "      <td>1</td>\n",
       "      <td>56</td>\n",
       "      <td>True</td>\n",
       "      <td>False</td>\n",
       "      <td>True</td>\n",
       "      <td>1.4291</td>\n",
       "      <td>True</td>\n",
       "      <td>implementation,arithmetic,math,</td>\n",
       "      <td>{}</td>\n",
       "    </tr>\n",
       "    <tr>\n",
       "      <th>2</th>\n",
       "      <td>2</td>\n",
       "      <td>1002</td>\n",
       "      <td>터렛</td>\n",
       "      <td>[{'language': 'ko', 'languageDisplayName': 'ko...</td>\n",
       "      <td>True</td>\n",
       "      <td>False</td>\n",
       "      <td>34754</td>\n",
       "      <td>8</td>\n",
       "      <td>250</td>\n",
       "      <td>False</td>\n",
       "      <td>False</td>\n",
       "      <td>False</td>\n",
       "      <td>4.4631</td>\n",
       "      <td>True</td>\n",
       "      <td>case_work,geometry,math,</td>\n",
       "      <td>{}</td>\n",
       "    </tr>\n",
       "    <tr>\n",
       "      <th>3</th>\n",
       "      <td>3</td>\n",
       "      <td>1003</td>\n",
       "      <td>피보나치 함수</td>\n",
       "      <td>[{'language': 'ko', 'languageDisplayName': 'ko...</td>\n",
       "      <td>True</td>\n",
       "      <td>False</td>\n",
       "      <td>48576</td>\n",
       "      <td>8</td>\n",
       "      <td>206</td>\n",
       "      <td>False</td>\n",
       "      <td>False</td>\n",
       "      <td>False</td>\n",
       "      <td>3.0534</td>\n",
       "      <td>True</td>\n",
       "      <td>dp,</td>\n",
       "      <td>{}</td>\n",
       "    </tr>\n",
       "    <tr>\n",
       "      <th>4</th>\n",
       "      <td>4</td>\n",
       "      <td>1004</td>\n",
       "      <td>어린 왕자</td>\n",
       "      <td>[{'language': 'ko', 'languageDisplayName': 'ko...</td>\n",
       "      <td>True</td>\n",
       "      <td>False</td>\n",
       "      <td>14389</td>\n",
       "      <td>8</td>\n",
       "      <td>137</td>\n",
       "      <td>False</td>\n",
       "      <td>False</td>\n",
       "      <td>False</td>\n",
       "      <td>2.1833</td>\n",
       "      <td>True</td>\n",
       "      <td>geometry,math,</td>\n",
       "      <td>{}</td>\n",
       "    </tr>\n",
       "  </tbody>\n",
       "</table>\n",
       "</div>"
      ],
      "text/plain": [
       "   Unnamed: 0 problem_id  titleKo  \\\n",
       "0           0       1000      A+B   \n",
       "1           1       1001      A-B   \n",
       "2           2       1002       터렛   \n",
       "3           3       1003  피보나치 함수   \n",
       "4           4       1004    어린 왕자   \n",
       "\n",
       "                                              titles  isSolvable  isPartial  \\\n",
       "0  [{'language': 'en', 'languageDisplayName': 'en...        True      False   \n",
       "1  [{'language': 'ko', 'languageDisplayName': 'ko...        True      False   \n",
       "2  [{'language': 'ko', 'languageDisplayName': 'ko...        True      False   \n",
       "3  [{'language': 'ko', 'languageDisplayName': 'ko...        True      False   \n",
       "4  [{'language': 'ko', 'languageDisplayName': 'ko...        True      False   \n",
       "\n",
       "   acceptedUserCount  level  votedUserCount  sprout  givesNoRating  \\\n",
       "0             265818      1             140    True          False   \n",
       "1             226989      1              56    True          False   \n",
       "2              34754      8             250   False          False   \n",
       "3              48576      8             206   False          False   \n",
       "4              14389      8             137   False          False   \n",
       "\n",
       "   isLevelLocked  averageTries  official                     problem_tags  \\\n",
       "0           True        2.5177      True  implementation,arithmetic,math,   \n",
       "1           True        1.4291      True  implementation,arithmetic,math,   \n",
       "2          False        4.4631      True         case_work,geometry,math,   \n",
       "3          False        3.0534      True                              dp,   \n",
       "4          False        2.1833      True                   geometry,math,   \n",
       "\n",
       "  metadata  \n",
       "0       {}  \n",
       "1       {}  \n",
       "2       {}  \n",
       "3       {}  \n",
       "4       {}  "
      ]
     },
     "execution_count": 21,
     "metadata": {},
     "output_type": "execute_result"
    }
   ],
   "source": [
    "problem_df.head()"
   ]
  },
  {
   "cell_type": "code",
   "execution_count": 22,
   "metadata": {},
   "outputs": [],
   "source": [
    "problem_df = problem_df.loc[:, ['problem_id', 'level','problem_tags']]"
   ]
  },
  {
   "cell_type": "code",
   "execution_count": 32,
   "metadata": {
    "colab": {
     "base_uri": "https://localhost:8080/",
     "height": 529
    },
    "id": "BevGILeZ353I",
    "outputId": "78a14d0d-86f0-47a5-fd61-f0bde06b5d25"
   },
   "outputs": [],
   "source": [
    "# # problem_association_seq 제작\n",
    "\n",
    "# import re\n",
    "\n",
    "# problem_association_seq_list = set()\n",
    "# problem_id_list = problem_df['problem_id'].tolist()\n",
    "\n",
    "# problem_association_list = problem_df['problem_association'].tolist()\n",
    "# title_list = problem_df['title'].tolist()\n",
    "# for title, problem_association in zip(title_list, problem_association_list):\n",
    "#     problem_association = eval(problem_association)\n",
    "#     if problem_association:\n",
    "#         problem_association += [title]\n",
    "#         problem_association = sorted(list(set(problem_id_list) & set(re.findall(r'([0-9]+?)번', '#'.join(problem_association)))))\n",
    "#         problem_association_seq_list.add(tuple(problem_association))\n",
    "\n",
    "# problem_association_seq_list = list(map(list, problem_association_seq_list))\n",
    "\n",
    "# len(problem_association_seq_list)"
   ]
  },
  {
   "cell_type": "code",
   "execution_count": 30,
   "metadata": {
    "colab": {
     "base_uri": "https://localhost:8080/",
     "height": 0
    },
    "id": "4Q_5jT9l353J",
    "outputId": "98bf3446-7d37-4b74-86e3-c061fae712be"
   },
   "outputs": [
    {
     "name": "stdout",
     "output_type": "stream",
     "text": [
      "31\n"
     ]
    }
   ],
   "source": [
    "# level로 seq 제작\n",
    "\n",
    "problem_level_seq_list = []\n",
    "\n",
    "group_df = problem_df.groupby('level')\n",
    "\n",
    "for level, df in group_df:\n",
    "    problem_level_seq_list.append(df['problem_id'].tolist())\n",
    "\n",
    "print(len(problem_level_seq_list))"
   ]
  },
  {
   "cell_type": "code",
   "execution_count": 24,
   "metadata": {
    "colab": {
     "base_uri": "https://localhost:8080/",
     "height": 0
    },
    "id": "5yTqsH_EJ9Aw",
    "outputId": "b6537723-730b-46e2-b6ca-9ea86c95ad43"
   },
   "outputs": [
    {
     "name": "stdout",
     "output_type": "stream",
     "text": [
      "[]\n"
     ]
    }
   ],
   "source": [
    "# arr = '임정우,백지원,노명은,한상진,'\n",
    "# arr = [arr]\n",
    "# tags = eval(arr)\n",
    "# tags\n",
    "arr = ''\n",
    "arr = arr.split(',')\n",
    "arr.pop()\n",
    "print(arr)"
   ]
  },
  {
   "cell_type": "code",
   "execution_count": 25,
   "metadata": {
    "colab": {
     "base_uri": "https://localhost:8080/",
     "height": 0
    },
    "id": "oImIbqXn353K",
    "outputId": "f71a587f-4e55-418d-f4a2-de4e590c769e"
   },
   "outputs": [
    {
     "data": {
      "text/plain": [
       "203"
      ]
     },
     "execution_count": 25,
     "metadata": {},
     "output_type": "execute_result"
    }
   ],
   "source": [
    "# tag로 seq 제작\n",
    "\n",
    "problem_tag_seq_list = []\n",
    "\n",
    "tag_list = []\n",
    "\n",
    "def get_preprocessing_tags(tags):\n",
    "    global tag_list\n",
    "    # tags = eval(tags)\n",
    "    if type(tags) != 'float':\n",
    "      tags = str(tags).split(',')\n",
    "      tags.pop()\n",
    "      tags = [tag for tag in tags]\n",
    "      tag_list += tags\n",
    "    return tags\n",
    "\n",
    "problem_df['preprocessing_tags'] = problem_df['problem_tags'].apply(lambda x : get_preprocessing_tags(x))\n",
    "tag_list = list(set(tag_list))\n",
    "problem_num_list = problem_df['problem_id'].tolist()\n",
    "\n",
    "tag_df = pd.DataFrame(data = np.zeros((len(problem_num_list), len(tag_list))), columns = tag_list, index = problem_num_list)\n",
    "\n",
    "for df in problem_df.iloc:\n",
    "    tag_df.loc[df['problem_id'], df['preprocessing_tags']] = 1\n",
    "\n",
    "for tag in tag_list:\n",
    "    problem_tag_seq = tag_df[tag_df[tag] == 1].index.tolist()\n",
    "    problem_tag_seq_list.append(problem_tag_seq)\n",
    "\n",
    "len(problem_tag_seq_list)"
   ]
  },
  {
   "cell_type": "code",
   "execution_count": 26,
   "metadata": {
    "colab": {
     "base_uri": "https://localhost:8080/"
    },
    "id": "auNbfW6q353K",
    "outputId": "fdedc4b2-d544-4797-941e-14609c5c52cd"
   },
   "outputs": [
    {
     "name": "stdout",
     "output_type": "stream",
     "text": [
      "92271.6796875 987654321\n",
      "Loss after epoch 1: 92271.6796875\n",
      "107227.6484375 92271.6796875\n",
      "103461.328125 92271.6796875\n",
      "102583.875 92271.6796875\n",
      "98682.375 92271.6796875\n",
      "91846.90625 92271.6796875\n",
      "Loss after epoch 6: 91846.90625\n",
      "86354.5 91846.90625\n",
      "Loss after epoch 7: 86354.5\n",
      "81304.3125 86354.5\n",
      "Loss after epoch 8: 81304.3125\n",
      "75998.5625 81304.3125\n",
      "Loss after epoch 9: 75998.5625\n",
      "71966.8125 75998.5625\n",
      "Loss after epoch 10: 71966.8125\n",
      "68141.625 71966.8125\n",
      "Loss after epoch 11: 68141.625\n",
      "64793.875 68141.625\n",
      "Loss after epoch 12: 64793.875\n",
      "60817.875 64793.875\n",
      "Loss after epoch 13: 60817.875\n",
      "58789.875 60817.875\n",
      "Loss after epoch 14: 58789.875\n",
      "57098.75 58789.875\n",
      "Loss after epoch 15: 57098.75\n",
      "55502.875 57098.75\n",
      "Loss after epoch 16: 55502.875\n",
      "53678.5 55502.875\n",
      "Loss after epoch 17: 53678.5\n",
      "52475.0 53678.5\n",
      "Loss after epoch 18: 52475.0\n",
      "50576.375 52475.0\n",
      "Loss after epoch 19: 50576.375\n",
      "49619.125 50576.375\n",
      "Loss after epoch 20: 49619.125\n",
      "48234.625 49619.125\n",
      "Loss after epoch 21: 48234.625\n",
      "47182.5 48234.625\n",
      "Loss after epoch 22: 47182.5\n",
      "45943.125 47182.5\n",
      "Loss after epoch 23: 45943.125\n",
      "45087.125 45943.125\n",
      "Loss after epoch 24: 45087.125\n",
      "44230.25 45087.125\n",
      "Loss after epoch 25: 44230.25\n",
      "43728.125 44230.25\n",
      "Loss after epoch 26: 43728.125\n",
      "43237.125 43728.125\n",
      "Loss after epoch 27: 43237.125\n",
      "42470.0 43237.125\n",
      "Loss after epoch 28: 42470.0\n",
      "41935.75 42470.0\n",
      "Loss after epoch 29: 41935.75\n",
      "41554.25 41935.75\n",
      "Loss after epoch 30: 41554.25\n",
      "41322.375 41554.25\n",
      "Loss after epoch 31: 41322.375\n",
      "40969.25 41322.375\n",
      "Loss after epoch 32: 40969.25\n",
      "40587.75 40969.25\n",
      "Loss after epoch 33: 40587.75\n",
      "40394.5 40587.75\n",
      "Loss after epoch 34: 40394.5\n",
      "39146.125 40394.5\n",
      "Loss after epoch 35: 39146.125\n",
      "39259.25 39146.125\n",
      "39018.25 39146.125\n",
      "Loss after epoch 37: 39018.25\n",
      "38885.25 39018.25\n",
      "Loss after epoch 38: 38885.25\n",
      "38539.25 38885.25\n",
      "Loss after epoch 39: 38539.25\n",
      "38485.25 38539.25\n",
      "Loss after epoch 40: 38485.25\n",
      "38010.75 38485.25\n",
      "Loss after epoch 41: 38010.75\n",
      "38258.5 38010.75\n",
      "38027.25 38010.75\n",
      "37809.25 38010.75\n",
      "Loss after epoch 44: 37809.25\n",
      "37776.75 37809.25\n",
      "Loss after epoch 45: 37776.75\n",
      "37592.25 37776.75\n",
      "Loss after epoch 46: 37592.25\n",
      "37264.25 37592.25\n",
      "Loss after epoch 47: 37264.25\n",
      "37371.5 37264.25\n",
      "37224.75 37264.25\n",
      "Loss after epoch 49: 37224.75\n",
      "36974.0 37224.75\n",
      "Loss after epoch 50: 36974.0\n",
      "37095.25 36974.0\n",
      "36796.75 36974.0\n",
      "Loss after epoch 52: 36796.75\n",
      "36551.25 36796.75\n",
      "Loss after epoch 53: 36551.25\n",
      "36682.0 36551.25\n",
      "36559.0 36551.25\n",
      "36633.0 36551.25\n",
      "36522.25 36551.25\n",
      "Loss after epoch 57: 36522.25\n",
      "36614.5 36522.25\n",
      "36456.25 36522.25\n",
      "Loss after epoch 59: 36456.25\n",
      "36306.5 36456.25\n",
      "Loss after epoch 60: 36306.5\n",
      "36135.5 36306.5\n",
      "Loss after epoch 61: 36135.5\n",
      "35944.5 36135.5\n",
      "Loss after epoch 62: 35944.5\n",
      "35701.25 35944.5\n",
      "Loss after epoch 63: 35701.25\n",
      "35547.75 35701.25\n",
      "Loss after epoch 64: 35547.75\n",
      "35470.75 35547.75\n",
      "Loss after epoch 65: 35470.75\n",
      "35824.25 35470.75\n",
      "35364.5 35470.75\n",
      "Loss after epoch 67: 35364.5\n",
      "35621.5 35364.5\n",
      "35491.0 35364.5\n",
      "35126.25 35364.5\n",
      "Loss after epoch 70: 35126.25\n",
      "35090.25 35126.25\n",
      "Loss after epoch 71: 35090.25\n",
      "34935.75 35090.25\n",
      "Loss after epoch 72: 34935.75\n",
      "35216.5 34935.75\n",
      "35028.75 34935.75\n",
      "35123.75 34935.75\n",
      "34928.25 34935.75\n",
      "Loss after epoch 76: 34928.25\n",
      "34636.5 34928.25\n",
      "Loss after epoch 77: 34636.5\n",
      "34924.25 34636.5\n",
      "34720.5 34636.5\n",
      "34392.25 34636.5\n",
      "Loss after epoch 80: 34392.25\n",
      "34790.5 34392.25\n",
      "34661.5 34392.25\n",
      "34781.75 34392.25\n",
      "34339.25 34392.25\n",
      "Loss after epoch 84: 34339.25\n",
      "34227.75 34339.25\n",
      "Loss after epoch 85: 34227.75\n",
      "34223.25 34227.75\n",
      "Loss after epoch 86: 34223.25\n",
      "33954.0 34223.25\n",
      "Loss after epoch 87: 33954.0\n",
      "34421.75 33954.0\n",
      "33768.25 33954.0\n",
      "Loss after epoch 89: 33768.25\n",
      "33922.75 33768.25\n",
      "33926.75 33768.25\n",
      "33934.75 33768.25\n",
      "33327.25 33768.25\n",
      "Loss after epoch 93: 33327.25\n",
      "33080.5 33327.25\n",
      "Loss after epoch 94: 33080.5\n",
      "33189.5 33080.5\n",
      "33130.5 33080.5\n",
      "33085.5 33080.5\n",
      "32960.0 33080.5\n",
      "Loss after epoch 98: 32960.0\n",
      "32861.0 32960.0\n",
      "Loss after epoch 99: 32861.0\n",
      "33087.0 32861.0\n",
      "34387.0 32861.0\n",
      "33271.0 32861.0\n",
      "32484.5 32861.0\n",
      "Loss after epoch 103: 32484.5\n",
      "32475.5 32484.5\n",
      "Loss after epoch 104: 32475.5\n",
      "32726.0 32475.5\n",
      "32756.0 32475.5\n",
      "32566.0 32475.5\n",
      "32559.0 32475.5\n",
      "32790.0 32475.5\n",
      "32411.5 32475.5\n",
      "Loss after epoch 110: 32411.5\n",
      "32404.5 32411.5\n",
      "Loss after epoch 111: 32404.5\n",
      "32196.0 32404.5\n",
      "Loss after epoch 112: 32196.0\n",
      "32370.5 32196.0\n",
      "32275.5 32196.0\n",
      "32191.0 32196.0\n",
      "Loss after epoch 115: 32191.0\n",
      "32250.5 32191.0\n",
      "32109.0 32191.0\n",
      "Loss after epoch 117: 32109.0\n",
      "32037.0 32109.0\n",
      "Loss after epoch 118: 32037.0\n",
      "32139.0 32037.0\n",
      "32149.5 32037.0\n",
      "32168.0 32037.0\n",
      "32082.5 32037.0\n",
      "31975.0 32037.0\n",
      "Loss after epoch 123: 31975.0\n",
      "32282.0 31975.0\n",
      "31925.0 31975.0\n",
      "Loss after epoch 125: 31925.0\n",
      "31772.5 31925.0\n",
      "Loss after epoch 126: 31772.5\n",
      "31767.5 31772.5\n",
      "Loss after epoch 127: 31767.5\n",
      "32017.0 31767.5\n",
      "31848.5 31767.5\n",
      "32099.5 31767.5\n",
      "31551.5 31767.5\n",
      "Loss after epoch 131: 31551.5\n",
      "32070.5 31551.5\n",
      "31806.0 31551.5\n",
      "32078.0 31551.5\n",
      "31737.5 31551.5\n",
      "31834.5 31551.5\n",
      "31552.0 31551.5\n",
      "31474.0 31551.5\n",
      "Loss after epoch 138: 31474.0\n",
      "32063.5 31474.0\n",
      "31529.0 31474.0\n",
      "31948.0 31474.0\n",
      "31591.0 31474.0\n",
      "31663.5 31474.0\n",
      "31803.0 31474.0\n",
      "31584.5 31474.0\n",
      "31547.5 31474.0\n",
      "31540.0 31474.0\n",
      "31461.5 31474.0\n",
      "Loss after epoch 148: 31461.5\n",
      "31627.5 31461.5\n",
      "31727.5 31461.5\n",
      "31744.5 31461.5\n",
      "31568.5 31461.5\n",
      "31485.0 31461.5\n",
      "31502.0 31461.5\n",
      "31132.0 31461.5\n",
      "Loss after epoch 155: 31132.0\n",
      "31443.5 31132.0\n",
      "31559.5 31132.0\n",
      "31438.5 31132.0\n",
      "31462.0 31132.0\n",
      "31534.5 31132.0\n",
      "31538.5 31132.0\n",
      "31253.5 31132.0\n",
      "31482.0 31132.0\n",
      "31235.5 31132.0\n",
      "31556.5 31132.0\n",
      "31102.5 31132.0\n",
      "Loss after epoch 166: 31102.5\n",
      "31386.5 31102.5\n",
      "31384.5 31102.5\n",
      "31462.0 31102.5\n",
      "31531.0 31102.5\n",
      "31494.5 31102.5\n",
      "31204.0 31102.5\n",
      "31334.0 31102.5\n",
      "31376.0 31102.5\n",
      "31472.0 31102.5\n",
      "31493.0 31102.5\n",
      "31437.5 31102.5\n",
      "31301.5 31102.5\n",
      "31540.5 31102.5\n",
      "31221.0 31102.5\n",
      "31034.0 31102.5\n",
      "Loss after epoch 181: 31034.0\n",
      "31218.5 31034.0\n",
      "31535.0 31034.0\n",
      "31559.5 31034.0\n",
      "31212.5 31034.0\n",
      "31085.0 31034.0\n",
      "30830.5 31034.0\n",
      "Loss after epoch 187: 30830.5\n",
      "31648.0 30830.5\n",
      "31491.0 30830.5\n",
      "31288.0 30830.5\n",
      "31545.0 30830.5\n",
      "31406.5 30830.5\n",
      "30975.0 30830.5\n",
      "31292.0 30830.5\n",
      "31101.5 30830.5\n",
      "31296.5 30830.5\n",
      "31521.5 30830.5\n",
      "31346.5 30830.5\n",
      "31272.5 30830.5\n",
      "31268.0 30830.5\n",
      "31439.0 30830.5\n",
      "31471.5 30830.5\n",
      "31387.5 30830.5\n",
      "31289.0 30830.5\n",
      "31340.0 30830.5\n",
      "31335.5 30830.5\n",
      "31155.5 30830.5\n",
      "31308.5 30830.5\n",
      "31513.5 30830.5\n",
      "31138.0 30830.5\n",
      "31594.5 30830.5\n",
      "31381.5 30830.5\n",
      "31002.5 30830.5\n",
      "31075.5 30830.5\n",
      "31312.0 30830.5\n",
      "31076.5 30830.5\n",
      "31290.5 30830.5\n",
      "31174.5 30830.5\n",
      "31083.5 30830.5\n",
      "31218.0 30830.5\n",
      "31168.0 30830.5\n",
      "31100.0 30830.5\n",
      "31295.5 30830.5\n",
      "31226.5 30830.5\n",
      "30396.0 30830.5\n",
      "Loss after epoch 225: 30396.0\n",
      "31507.0 30396.0\n",
      "31776.0 30396.0\n",
      "31431.0 30396.0\n",
      "31755.0 30396.0\n",
      "31409.0 30396.0\n",
      "31346.0 30396.0\n",
      "31231.0 30396.0\n",
      "31428.0 30396.0\n",
      "31402.0 30396.0\n",
      "31370.0 30396.0\n",
      "32002.0 30396.0\n",
      "31402.0 30396.0\n",
      "31489.0 30396.0\n",
      "31046.0 30396.0\n",
      "31133.0 30396.0\n",
      "31507.0 30396.0\n",
      "31497.0 30396.0\n",
      "31568.0 30396.0\n",
      "31100.0 30396.0\n",
      "31521.0 30396.0\n",
      "31507.0 30396.0\n",
      "31454.0 30396.0\n",
      "31294.0 30396.0\n",
      "31411.0 30396.0\n",
      "31577.0 30396.0\n",
      "31333.0 30396.0\n",
      "31368.0 30396.0\n",
      "31225.0 30396.0\n",
      "31398.0 30396.0\n",
      "31204.0 30396.0\n",
      "31176.0 30396.0\n",
      "31452.0 30396.0\n",
      "31086.0 30396.0\n",
      "31043.0 30396.0\n",
      "31088.0 30396.0\n",
      "31098.0 30396.0\n",
      "31359.0 30396.0\n",
      "30979.0 30396.0\n",
      "31427.0 30396.0\n",
      "30788.0 30396.0\n",
      "30956.0 30396.0\n",
      "30890.0 30396.0\n",
      "31078.0 30396.0\n",
      "30924.0 30396.0\n",
      "30717.0 30396.0\n",
      "30793.0 30396.0\n",
      "30820.0 30396.0\n",
      "30840.0 30396.0\n",
      "30769.0 30396.0\n",
      "30458.0 30396.0\n",
      "30822.0 30396.0\n",
      "30492.0 30396.0\n",
      "30367.0 30396.0\n",
      "Loss after epoch 278: 30367.0\n",
      "30963.0 30367.0\n",
      "30395.0 30367.0\n",
      "30366.0 30367.0\n",
      "Loss after epoch 281: 30366.0\n",
      "30530.0 30366.0\n",
      "30074.0 30366.0\n",
      "Loss after epoch 283: 30074.0\n",
      "30165.0 30074.0\n",
      "30222.0 30074.0\n",
      "30106.0 30074.0\n",
      "30156.0 30074.0\n",
      "29918.0 30074.0\n",
      "Loss after epoch 288: 29918.0\n",
      "29927.0 29918.0\n",
      "30012.0 29918.0\n",
      "29962.0 29918.0\n",
      "30262.0 29918.0\n",
      "30060.0 29918.0\n",
      "30168.0 29918.0\n",
      "29768.0 29918.0\n",
      "Loss after epoch 295: 29768.0\n",
      "29825.0 29768.0\n",
      "29719.0 29768.0\n",
      "Loss after epoch 297: 29719.0\n",
      "29884.0 29719.0\n",
      "29753.0 29719.0\n",
      "29890.0 29719.0\n",
      "Time passed: 0:15:31.109129\n"
     ]
    }
   ],
   "source": [
    "from gensim.models import Word2Vec\n",
    "from gensim.models.word2vec import LineSentence\n",
    "from gensim.models.callbacks import CallbackAny2Vec\n",
    "import datetime\n",
    "\n",
    "class callback(CallbackAny2Vec):\n",
    "    '''Callback to print loss after each epoch.'''\n",
    "\n",
    "    def __init__(self):\n",
    "        self.epoch = 1\n",
    "        self.loss_to_be_subed = 0\n",
    "        self.loss_now = 987654321\n",
    "\n",
    "    def on_epoch_end(self, model):\n",
    "        loss = model.get_latest_training_loss()\n",
    "        loss_now = loss - self.loss_to_be_subed\n",
    "\n",
    "        self.loss_to_be_subed = loss\n",
    "        print(loss_now, self.loss_now)\n",
    "        if loss_now < self.loss_now:\n",
    "            self.loss_now = loss_now\n",
    "            # model.save(os.path.join(MODEL_PATH, 'clean-Word2Vec-CBOW-problem_association_seq-problem_level_seq-problem_tag_seq-vs128.model'))\n",
    "            print(f'Loss after epoch {self.epoch}: {loss_now}')\n",
    "            # print('Model 저장')\n",
    "        self.epoch += 1\n",
    "\n",
    "start = datetime.datetime.now()\n",
    "\n",
    "sentences = problem_level_seq_list + problem_tag_seq_list\n",
    "\n",
    "model = Word2Vec(\n",
    "                sentences = sentences,\n",
    "                seed = 22,\n",
    "                epochs = 300,\n",
    "                min_count = 1,\n",
    "                vector_size = 128,\n",
    "                sg = 0,\n",
    "                negative = 10,\n",
    "                window = 987654321,\n",
    "                compute_loss = True,\n",
    "                callbacks=[callback()],\n",
    "                 )\n",
    "\n",
    "print(\"Time passed: \" + str(datetime.datetime.now() - start))"
   ]
  },
  {
   "cell_type": "code",
   "execution_count": 28,
   "metadata": {},
   "outputs": [
    {
     "name": "stdout",
     "output_type": "stream",
     "text": [
      "Words similar to '1005':\n",
      "1516: 0.9936\n",
      "5847: 0.9825\n",
      "18780: 0.9656\n",
      "9470: 0.9075\n",
      "13691: 0.9056\n",
      "23906: 0.9054\n",
      "14757: 0.9049\n",
      "2252: 0.9031\n",
      "5937: 0.9024\n",
      "2623: 0.9018\n"
     ]
    }
   ],
   "source": [
    "# 유사한 단어 찾기\n",
    "similar_words = model.wv.most_similar(\"1005\")\n",
    "\n",
    "# 결과 출력\n",
    "print(\"Words similar to '1005':\")\n",
    "for word, score in similar_words:\n",
    "    print(f\"{word}: {score:.4f}\")\n"
   ]
  },
  {
   "cell_type": "code",
   "execution_count": 48,
   "metadata": {},
   "outputs": [
    {
     "name": "stdout",
     "output_type": "stream",
     "text": [
      "23032 99\n"
     ]
    }
   ],
   "source": [
    "import math\n",
    "problem_id = \"1005\"\n",
    "similar_problem = model.wv.most_similar(problem_id)\n",
    "(problem, score) = similar_problem[0]\n",
    "print(problem, math.floor(score * 100))"
   ]
  },
  {
   "cell_type": "code",
   "execution_count": 29,
   "metadata": {},
   "outputs": [],
   "source": [
    "model.save(\"word2vec_model.bin\")"
   ]
  },
  {
   "cell_type": "code",
   "execution_count": 39,
   "metadata": {},
   "outputs": [
    {
     "name": "stdout",
     "output_type": "stream",
     "text": [
      "item2vec.ipynb     word2vec_model.bin\r\n"
     ]
    }
   ],
   "source": []
  },
  {
   "cell_type": "code",
   "execution_count": 19,
   "metadata": {
    "id": "HmqDVzVG353L"
   },
   "outputs": [],
   "source": [
    "# from gensim.models import Word2Vec\n",
    "\n",
    "# with open(os.path.join(VAL_TO_IDX_DATA_PATH, 'clean_problem_id_to_idx.json'), 'r', encoding = 'utf-8') as f:\n",
    "#     problem_id2idx = json.load(f)\n",
    "\n",
    "# with open(os.path.join(VAL_TO_IDX_DATA_PATH, 'clean_idx_to_problem_id.json'), 'r', encoding = 'utf-8') as f:\n",
    "#     idx2problem_id = json.load(f)\n",
    "\n",
    "ids = problem_df[\"problem_id\"].to_list()\n",
    "vectors = []\n",
    "for id in ids:\n",
    "  vectors.append(model.wv[id])\n",
    "vectors = np.array(vectors)"
   ]
  },
  {
   "cell_type": "code",
   "execution_count": 20,
   "metadata": {
    "colab": {
     "base_uri": "https://localhost:8080/"
    },
    "id": "ftZ8I8kTw0Au",
    "outputId": "0f7fc72e-1c28-4808-b574-b24b81977764"
   },
   "outputs": [
    {
     "data": {
      "text/plain": [
       "array([[-0.04551158, -0.48126405,  1.2746272 , ...,  0.9965144 ,\n",
       "        -1.8930271 , -1.559648  ],\n",
       "       [-0.04949784, -0.48569328,  1.2866275 , ...,  1.0147113 ,\n",
       "        -1.879358  , -1.5627702 ],\n",
       "       [-0.80592644,  1.5268614 ,  0.45178264, ...,  1.4711316 ,\n",
       "        -1.4122283 , -1.491984  ],\n",
       "       ...,\n",
       "       [-1.0900366 ,  0.15229999,  0.38579842, ...,  0.96586955,\n",
       "        -0.54003   , -0.07141001],\n",
       "       [-0.81841326,  1.5171108 ,  0.43075237, ...,  1.4584861 ,\n",
       "        -1.4011346 , -1.4647173 ],\n",
       "       [-1.0906614 ,  0.16902418,  0.39034867, ...,  0.951178  ,\n",
       "        -0.5338964 , -0.05297158]], dtype=float32)"
      ]
     },
     "execution_count": 20,
     "metadata": {},
     "output_type": "execute_result"
    }
   ],
   "source": [
    "vectors"
   ]
  },
  {
   "cell_type": "code",
   "execution_count": 21,
   "metadata": {
    "id": "IvbRvCfo353L"
   },
   "outputs": [],
   "source": [
    "# with open(os.path.join(MODEL_PATH, 'clean-Word2Vec-CBOW-problem_association_seq-problem_level_seq-problem_tag_seq-vs128-vector.pickle'), 'wb') as file:\n",
    "#     pickle.dump(vectors, file, protocol = 4)"
   ]
  },
  {
   "cell_type": "code",
   "execution_count": 22,
   "metadata": {
    "id": "odqQ-Ka0353L"
   },
   "outputs": [
    {
     "name": "stderr",
     "output_type": "stream",
     "text": [
      "/Users/im_jungwoo/anaconda3/lib/python3.11/site-packages/joblib/externals/loky/backend/context.py:150: UserWarning: Could not find the number of physical cores for the following reason:\n",
      "[Errno 2] No such file or directory: 'sysctl'\n",
      "Returning the number of logical cores instead. You can silence this warning by setting LOKY_MAX_CPU_COUNT to the number of cores you want to use.\n",
      "  warnings.warn(\n",
      "  File \"/Users/im_jungwoo/anaconda3/lib/python3.11/site-packages/joblib/externals/loky/backend/context.py\", line 235, in _count_physical_cores\n",
      "    cpu_info = subprocess.run(\n",
      "               ^^^^^^^^^^^^^^^\n",
      "  File \"/Users/im_jungwoo/anaconda3/lib/python3.11/subprocess.py\", line 548, in run\n",
      "    with Popen(*popenargs, **kwargs) as process:\n",
      "         ^^^^^^^^^^^^^^^^^^^^^^^^^^^\n",
      "  File \"/Users/im_jungwoo/anaconda3/lib/python3.11/subprocess.py\", line 1026, in __init__\n",
      "    self._execute_child(args, executable, preexec_fn, close_fds,\n",
      "  File \"/Users/im_jungwoo/anaconda3/lib/python3.11/subprocess.py\", line 1950, in _execute_child\n",
      "    raise child_exception_type(errno_num, err_msg, err_filename)\n"
     ]
    }
   ],
   "source": [
    "from sklearn.manifold import TSNE\n",
    "\n",
    "tsne = TSNE(n_components=2, random_state = 0)\n",
    "tsne_vectors = tsne.fit_transform(vectors)"
   ]
  },
  {
   "cell_type": "code",
   "execution_count": 29,
   "metadata": {
    "colab": {
     "base_uri": "https://localhost:8080/"
    },
    "id": "bRRrbOd-m0kR",
    "outputId": "3cd3cb7a-f651-4bf3-fefb-c27313445b2d"
   },
   "outputs": [
    {
     "data": {
      "text/plain": [
       "(23427, 128)"
      ]
     },
     "execution_count": 29,
     "metadata": {},
     "output_type": "execute_result"
    }
   ],
   "source": [
    "vectors.shape"
   ]
  },
  {
   "cell_type": "code",
   "execution_count": 30,
   "metadata": {
    "colab": {
     "base_uri": "https://localhost:8080/"
    },
    "id": "FiAWW4por9Ef",
    "outputId": "46a62f27-dfbb-41e1-834c-f7db69d1ac47"
   },
   "outputs": [
    {
     "data": {
      "text/plain": [
       "array([[  8.951612 , 103.69334  ],\n",
       "       [  7.2406597, 104.38716  ],\n",
       "       [-48.631878 , -48.149372 ],\n",
       "       ...,\n",
       "       [-27.117722 ,  19.793943 ],\n",
       "       [-43.629272 , -48.186962 ],\n",
       "       [-35.236393 ,  23.094257 ]], dtype=float32)"
      ]
     },
     "execution_count": 30,
     "metadata": {},
     "output_type": "execute_result"
    }
   ],
   "source": [
    "tsne_vectors"
   ]
  },
  {
   "cell_type": "code",
   "execution_count": 28,
   "metadata": {
    "colab": {
     "base_uri": "https://localhost:8080/",
     "height": 984
    },
    "id": "QLPIVyhH353M",
    "outputId": "5294e94e-9e3c-42c9-c1bf-e93677f7723f"
   },
   "outputs": [
    {
     "ename": "KeyError",
     "evalue": "'id_to_idx'",
     "output_type": "error",
     "traceback": [
      "\u001b[0;31m---------------------------------------------------------------------------\u001b[0m",
      "\u001b[0;31mKeyError\u001b[0m                                  Traceback (most recent call last)",
      "File \u001b[0;32m~/anaconda3/lib/python3.11/site-packages/pandas/core/indexes/base.py:3790\u001b[0m, in \u001b[0;36mIndex.get_loc\u001b[0;34m(self, key)\u001b[0m\n\u001b[1;32m   3789\u001b[0m \u001b[38;5;28;01mtry\u001b[39;00m:\n\u001b[0;32m-> 3790\u001b[0m     \u001b[38;5;28;01mreturn\u001b[39;00m \u001b[38;5;28mself\u001b[39m\u001b[38;5;241m.\u001b[39m_engine\u001b[38;5;241m.\u001b[39mget_loc(casted_key)\n\u001b[1;32m   3791\u001b[0m \u001b[38;5;28;01mexcept\u001b[39;00m \u001b[38;5;167;01mKeyError\u001b[39;00m \u001b[38;5;28;01mas\u001b[39;00m err:\n",
      "File \u001b[0;32mindex.pyx:152\u001b[0m, in \u001b[0;36mpandas._libs.index.IndexEngine.get_loc\u001b[0;34m()\u001b[0m\n",
      "File \u001b[0;32mindex.pyx:181\u001b[0m, in \u001b[0;36mpandas._libs.index.IndexEngine.get_loc\u001b[0;34m()\u001b[0m\n",
      "File \u001b[0;32mpandas/_libs/hashtable_class_helper.pxi:7080\u001b[0m, in \u001b[0;36mpandas._libs.hashtable.PyObjectHashTable.get_item\u001b[0;34m()\u001b[0m\n",
      "File \u001b[0;32mpandas/_libs/hashtable_class_helper.pxi:7088\u001b[0m, in \u001b[0;36mpandas._libs.hashtable.PyObjectHashTable.get_item\u001b[0;34m()\u001b[0m\n",
      "\u001b[0;31mKeyError\u001b[0m: 'id_to_idx'",
      "\nThe above exception was the direct cause of the following exception:\n",
      "\u001b[0;31mKeyError\u001b[0m                                  Traceback (most recent call last)",
      "Cell \u001b[0;32mIn[28], line 6\u001b[0m\n\u001b[1;32m      4\u001b[0m problem_df\u001b[38;5;241m.\u001b[39mrename(columns\u001b[38;5;241m=\u001b[39m{\u001b[38;5;124m\"\u001b[39m\u001b[38;5;124mUnnamed: 0.1\u001b[39m\u001b[38;5;124m\"\u001b[39m:\u001b[38;5;124m\"\u001b[39m\u001b[38;5;124mid_to_idx\u001b[39m\u001b[38;5;124m\"\u001b[39m},inplace\u001b[38;5;241m=\u001b[39m\u001b[38;5;28;01mTrue\u001b[39;00m)\n\u001b[1;32m      5\u001b[0m \u001b[38;5;28;01mfor\u001b[39;00m level \u001b[38;5;129;01min\u001b[39;00m \u001b[38;5;28msorted\u001b[39m(problem_df[\u001b[38;5;124m'\u001b[39m\u001b[38;5;124mlevel\u001b[39m\u001b[38;5;124m'\u001b[39m]\u001b[38;5;241m.\u001b[39munique()):\n\u001b[0;32m----> 6\u001b[0m     idx \u001b[38;5;241m=\u001b[39m problem_df[problem_df[\u001b[38;5;124m'\u001b[39m\u001b[38;5;124mlevel\u001b[39m\u001b[38;5;124m'\u001b[39m] \u001b[38;5;241m==\u001b[39m level][\u001b[38;5;124m'\u001b[39m\u001b[38;5;124mid_to_idx\u001b[39m\u001b[38;5;124m'\u001b[39m]\u001b[38;5;241m.\u001b[39mtolist()\n\u001b[1;32m      7\u001b[0m     idx \u001b[38;5;241m=\u001b[39m \u001b[38;5;28mlist\u001b[39m(\u001b[38;5;28mmap\u001b[39m(\u001b[38;5;28mint\u001b[39m, idx))\n\u001b[1;32m      8\u001b[0m     \u001b[38;5;66;03m#idx = clean_idx(idx)\u001b[39;00m\n",
      "File \u001b[0;32m~/anaconda3/lib/python3.11/site-packages/pandas/core/frame.py:3893\u001b[0m, in \u001b[0;36mDataFrame.__getitem__\u001b[0;34m(self, key)\u001b[0m\n\u001b[1;32m   3891\u001b[0m \u001b[38;5;28;01mif\u001b[39;00m \u001b[38;5;28mself\u001b[39m\u001b[38;5;241m.\u001b[39mcolumns\u001b[38;5;241m.\u001b[39mnlevels \u001b[38;5;241m>\u001b[39m \u001b[38;5;241m1\u001b[39m:\n\u001b[1;32m   3892\u001b[0m     \u001b[38;5;28;01mreturn\u001b[39;00m \u001b[38;5;28mself\u001b[39m\u001b[38;5;241m.\u001b[39m_getitem_multilevel(key)\n\u001b[0;32m-> 3893\u001b[0m indexer \u001b[38;5;241m=\u001b[39m \u001b[38;5;28mself\u001b[39m\u001b[38;5;241m.\u001b[39mcolumns\u001b[38;5;241m.\u001b[39mget_loc(key)\n\u001b[1;32m   3894\u001b[0m \u001b[38;5;28;01mif\u001b[39;00m is_integer(indexer):\n\u001b[1;32m   3895\u001b[0m     indexer \u001b[38;5;241m=\u001b[39m [indexer]\n",
      "File \u001b[0;32m~/anaconda3/lib/python3.11/site-packages/pandas/core/indexes/base.py:3797\u001b[0m, in \u001b[0;36mIndex.get_loc\u001b[0;34m(self, key)\u001b[0m\n\u001b[1;32m   3792\u001b[0m     \u001b[38;5;28;01mif\u001b[39;00m \u001b[38;5;28misinstance\u001b[39m(casted_key, \u001b[38;5;28mslice\u001b[39m) \u001b[38;5;129;01mor\u001b[39;00m (\n\u001b[1;32m   3793\u001b[0m         \u001b[38;5;28misinstance\u001b[39m(casted_key, abc\u001b[38;5;241m.\u001b[39mIterable)\n\u001b[1;32m   3794\u001b[0m         \u001b[38;5;129;01mand\u001b[39;00m \u001b[38;5;28many\u001b[39m(\u001b[38;5;28misinstance\u001b[39m(x, \u001b[38;5;28mslice\u001b[39m) \u001b[38;5;28;01mfor\u001b[39;00m x \u001b[38;5;129;01min\u001b[39;00m casted_key)\n\u001b[1;32m   3795\u001b[0m     ):\n\u001b[1;32m   3796\u001b[0m         \u001b[38;5;28;01mraise\u001b[39;00m InvalidIndexError(key)\n\u001b[0;32m-> 3797\u001b[0m     \u001b[38;5;28;01mraise\u001b[39;00m \u001b[38;5;167;01mKeyError\u001b[39;00m(key) \u001b[38;5;28;01mfrom\u001b[39;00m \u001b[38;5;21;01merr\u001b[39;00m\n\u001b[1;32m   3798\u001b[0m \u001b[38;5;28;01mexcept\u001b[39;00m \u001b[38;5;167;01mTypeError\u001b[39;00m:\n\u001b[1;32m   3799\u001b[0m     \u001b[38;5;66;03m# If we have a listlike key, _check_indexing_error will raise\u001b[39;00m\n\u001b[1;32m   3800\u001b[0m     \u001b[38;5;66;03m#  InvalidIndexError. Otherwise we fall through and re-raise\u001b[39;00m\n\u001b[1;32m   3801\u001b[0m     \u001b[38;5;66;03m#  the TypeError.\u001b[39;00m\n\u001b[1;32m   3802\u001b[0m     \u001b[38;5;28mself\u001b[39m\u001b[38;5;241m.\u001b[39m_check_indexing_error(key)\n",
      "\u001b[0;31mKeyError\u001b[0m: 'id_to_idx'"
     ]
    },
    {
     "data": {
      "text/plain": [
       "<Figure size 1200x1200 with 0 Axes>"
      ]
     },
     "metadata": {},
     "output_type": "display_data"
    }
   ],
   "source": [
    "import matplotlib.pyplot as plt\n",
    "\n",
    "plt.figure(figsize = (12, 12))\n",
    "problem_df.rename(columns={\"Unnamed: 0.1\":\"id_to_idx\"},inplace=True)\n",
    "for level in sorted(problem_df['level'].unique()):\n",
    "    idx = problem_df[problem_df['level'] == level]['id_to_idx'].tolist()\n",
    "    idx = list(map(int, idx))\n",
    "    #idx = clean_idx(idx)\n",
    "    plt.scatter(x = tsne_vectors[idx, 0], y = tsne_vectors[idx, 1], alpha = 0.7, label = f'{level}')\n",
    "\n",
    "plt.legend()\n",
    "plt.show()"
   ]
  },
  {
   "cell_type": "code",
   "execution_count": 86,
   "metadata": {
    "id": "_Z7UZ-uEtS9z"
   },
   "outputs": [],
   "source": []
  },
  {
   "cell_type": "code",
   "execution_count": 26,
   "metadata": {
    "id": "YZrpnQEX353M"
   },
   "outputs": [],
   "source": [
    "tsne_vectors_df = pd.DataFrame(data = tsne_vectors, columns = ['x', 'y'])"
   ]
  },
  {
   "cell_type": "code",
   "execution_count": 27,
   "metadata": {
    "id": "wrHuXlAm353N"
   },
   "outputs": [],
   "source": [
    "idx = tsne_vectors_df[((-60 <= tsne_vectors_df['x']) & (tsne_vectors_df['x'] <= -35)) & ((-100 <= tsne_vectors_df['y']) & (tsne_vectors_df['y'] <= -50))].index.tolist()"
   ]
  },
  {
   "cell_type": "code",
   "execution_count": 56,
   "metadata": {
    "colab": {
     "base_uri": "https://localhost:8080/"
    },
    "id": "vpnqkJtD353N",
    "outputId": "e2eda693-d005-42ce-f09c-a8d4116418a8"
   },
   "outputs": [
    {
     "data": {
      "text/plain": [
       "array([[-144.26247],\n",
       "       [-144.26694],\n",
       "       [-144.25134],\n",
       "       ...,\n",
       "       [ 147.86232],\n",
       "       [ 147.90463],\n",
       "       [ 147.91061]], dtype=float32)"
      ]
     },
     "execution_count": 56,
     "metadata": {},
     "output_type": "execute_result"
    }
   ],
   "source": [
    "tsne_vectors"
   ]
  }
 ],
 "metadata": {
  "colab": {
   "provenance": []
  },
  "interpreter": {
   "hash": "d4d1e4263499bec80672ea0156c357c1ee493ec2b1c70f0acce89fc37c4a6abe"
  },
  "kernelspec": {
   "display_name": "Python 3 (ipykernel)",
   "language": "python",
   "name": "python3"
  },
  "language_info": {
   "codemirror_mode": {
    "name": "ipython",
    "version": 3
   },
   "file_extension": ".py",
   "mimetype": "text/x-python",
   "name": "python",
   "nbconvert_exporter": "python",
   "pygments_lexer": "ipython3",
   "version": "3.11.4"
  },
  "vscode": {
   "interpreter": {
    "hash": "d4d1e4263499bec80672ea0156c357c1ee493ec2b1c70f0acce89fc37c4a6abe"
   }
  }
 },
 "nbformat": 4,
 "nbformat_minor": 1
}
